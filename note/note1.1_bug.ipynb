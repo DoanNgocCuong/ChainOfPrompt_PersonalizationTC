{
 "cells": [
  {
   "cell_type": "markdown",
   "metadata": {},
   "source": [
    "```\n",
    "S D:\\GIT\\ChainOfPrompt_PersonalizationTC\\src> clasp status\n",
    "Tracked files:\n",
    "└─ apps-script\\appsscript.json\n",
    "└─ apps-script\\config.js\n",
    "└─ apps-script\\funct_getOpenAIResponse.js\n",
    "└─ apps-script\\Mã.js\n",
    "└─ apps-script\\testOpenAIResponse.js\n",
    "└─ apps-script\\utilsReadWriteData.js\n",
    "Untracked files:\n",
    "PS D:\\GIT\\ChainOfPrompt_PersonalizationTC\\src> clasp push  \n",
    "User has not enabled the Apps Script API. Enable it by visiting https://script.google.com/home/usersettings then retry. If you enabled this API recently, wait a few minutes for the action to propagate to our systems and retry.\n",
    "PS D:\\GIT\\ChainOfPrompt_PersonalizationTC\\src> \n",
    "```"
   ]
  },
  {
   "cell_type": "markdown",
   "metadata": {},
   "source": [
    "\n",
    "\n",
    "Lỗi này xảy ra vì Apps Script API chưa được bật. Hãy làm theo các bước sau để khắc phục:\n",
    "\n",
    "1. **Bật Apps Script API**:\n",
    "- Truy cập [https://script.google.com/home/usersettings](https://script.google.com/home/usersettings)\n",
    "- Tìm \"Google Apps Script API\"\n",
    "- Chuyển sang \"ON\"\n",
    "\n",
    "2. **Reset lại authentication**:\n",
    "````bash\n",
    "# Logout trước\n",
    "clasp logout\n",
    "\n",
    "# Login lại\n",
    "clasp login\n",
    "````\n",
    "\n",
    "3. **Kiểm tra vị trí file `.clasp.json`**:\n",
    "- File này phải ở thư mục gốc (D:\\GIT\\ChainOfPrompt_PersonalizationTC), không phải trong src\n",
    "- Nội dung file phải chỉ đúng đường dẫn:\n",
    "````json\n",
    "{\n",
    "  \"scriptId\": \"1Kbf6Dxy1DLW2Cv0-lP-ha0XnOIBsk3mdvr2GHzqdESoochu8f4UnXxCI\",\n",
    "  \"rootDir\": \"src/apps-script\"\n",
    "}\n",
    "````\n",
    "\n",
    "4. **Sau khi bật API và sửa file**:\n",
    "````bash\n",
    "# Di chuyển về thư mục gốc\n",
    "cd D:\\GIT\\ChainOfPrompt_PersonalizationTC\n",
    "\n",
    "# Thử push lại\n",
    "clasp push\n",
    "````\n",
    "\n",
    "Lưu ý:\n",
    "- Sau khi bật API, đợi vài phút để thay đổi có hiệu lực\n",
    "- Đảm bảo bạn đang dùng tài khoản Google đúng\n",
    "- Kiểm tra quyền truy cập trong Google Cloud Console\n"
   ]
  }
 ],
 "metadata": {
  "language_info": {
   "name": "python"
  }
 },
 "nbformat": 4,
 "nbformat_minor": 2
}
